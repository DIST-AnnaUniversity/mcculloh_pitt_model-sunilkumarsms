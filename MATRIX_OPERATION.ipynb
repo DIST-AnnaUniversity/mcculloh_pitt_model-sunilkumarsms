{
 "cells": [
  {
   "cell_type": "markdown",
   "id": "cc3a097c",
   "metadata": {},
   "source": [
    "# ADDITION"
   ]
  },
  {
   "cell_type": "code",
   "execution_count": 1,
   "id": "8fc9fb3d",
   "metadata": {},
   "outputs": [
    {
     "name": "stdout",
     "output_type": "stream",
     "text": [
      "[[  7   0   4]\n",
      " [ 13   5   0]\n",
      " [-16   9  17]]\n"
     ]
    }
   ],
   "source": [
    "import numpy as np\n",
    "\n",
    "A = np.array([[1,5,6],[8,-2,4],[-7,3,9]])\n",
    "B = np.array([[6,-5,-2],[5,7,-4],[-9,6,8]])\n",
    "C = A+B\n",
    "print(C)"
   ]
  },
  {
   "cell_type": "markdown",
   "id": "177553f9",
   "metadata": {},
   "source": [
    "# SUBTRACTION"
   ]
  },
  {
   "cell_type": "code",
   "execution_count": 2,
   "id": "4f0934a1",
   "metadata": {},
   "outputs": [
    {
     "name": "stdout",
     "output_type": "stream",
     "text": [
      "[[-5 10  8]\n",
      " [ 3 -9  8]\n",
      " [ 2 -3  1]]\n"
     ]
    }
   ],
   "source": [
    "import numpy as np\n",
    "\n",
    "A = np.array([[1,5,6],[8,-2,4],[-7,3,9]])\n",
    "B = np.array([[6,-5,-2],[5,7,-4],[-9,6,8]])\n",
    "C = A-B\n",
    "print(C)"
   ]
  },
  {
   "cell_type": "markdown",
   "id": "8abb75b9",
   "metadata": {},
   "source": [
    "# MULTIPLICATION"
   ]
  },
  {
   "cell_type": "code",
   "execution_count": 4,
   "id": "04a19a39",
   "metadata": {},
   "outputs": [
    {
     "name": "stdout",
     "output_type": "stream",
     "text": [
      "[[ 63 320  83]\n",
      " [ 77 484 102]\n",
      " [ 84 248 117]]\n"
     ]
    }
   ],
   "source": [
    "import numpy as np\n",
    " \n",
    "mat1 = ([1, 6, 5],[3 ,4, 8],[2, 12, 3])\n",
    "mat2 = ([3, 4, 6],[5, 6, 7],[6,56, 7])\n",
    "res = np.dot(mat1,mat2)\n",
    "print(res)"
   ]
  },
  {
   "cell_type": "code",
   "execution_count": null,
   "id": "c935bbaa",
   "metadata": {},
   "outputs": [],
   "source": []
  }
 ],
 "metadata": {
  "kernelspec": {
   "display_name": "Python 3 (ipykernel)",
   "language": "python",
   "name": "python3"
  },
  "language_info": {
   "codemirror_mode": {
    "name": "ipython",
    "version": 3
   },
   "file_extension": ".py",
   "mimetype": "text/x-python",
   "name": "python",
   "nbconvert_exporter": "python",
   "pygments_lexer": "ipython3",
   "version": "3.9.12"
  }
 },
 "nbformat": 4,
 "nbformat_minor": 5
}
