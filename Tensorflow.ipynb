{
 "cells": [
  {
   "cell_type": "code",
   "execution_count": 2,
   "id": "50fbc361",
   "metadata": {},
   "outputs": [
    {
     "name": "stdout",
     "output_type": "stream",
     "text": [
      "Requirement already satisfied: numpy in c:\\users\\sunil kumar\\anaconda3\\lib\\site-packages (1.21.5)\n",
      "Note: you may need to restart the kernel to use updated packages.\n"
     ]
    }
   ],
   "source": [
    "pip install numpy"
   ]
  },
  {
   "cell_type": "code",
   "execution_count": 3,
   "id": "8074650c",
   "metadata": {},
   "outputs": [
    {
     "name": "stdout",
     "output_type": "stream",
     "text": [
      "Requirement already satisfied: pandas in c:\\users\\sunil kumar\\anaconda3\\lib\\site-packages (1.4.2)\n",
      "Requirement already satisfied: python-dateutil>=2.8.1 in c:\\users\\sunil kumar\\anaconda3\\lib\\site-packages (from pandas) (2.8.2)\n",
      "Requirement already satisfied: numpy>=1.18.5 in c:\\users\\sunil kumar\\anaconda3\\lib\\site-packages (from pandas) (1.21.5)\n",
      "Requirement already satisfied: pytz>=2020.1 in c:\\users\\sunil kumar\\anaconda3\\lib\\site-packages (from pandas) (2021.3)\n",
      "Requirement already satisfied: six>=1.5 in c:\\users\\sunil kumar\\anaconda3\\lib\\site-packages (from python-dateutil>=2.8.1->pandas) (1.16.0)\n",
      "Note: you may need to restart the kernel to use updated packages.\n"
     ]
    }
   ],
   "source": [
    "pip install pandas"
   ]
  },
  {
   "cell_type": "code",
   "execution_count": 4,
   "id": "dd075667",
   "metadata": {},
   "outputs": [
    {
     "name": "stdout",
     "output_type": "stream",
     "text": [
      "Requirement already satisfied: tensorflow in c:\\users\\sunil kumar\\anaconda3\\lib\\site-packages (2.9.1)\n",
      "Requirement already satisfied: google-pasta>=0.1.1 in c:\\users\\sunil kumar\\anaconda3\\lib\\site-packages (from tensorflow) (0.2.0)\n",
      "Requirement already satisfied: packaging in c:\\users\\sunil kumar\\anaconda3\\lib\\site-packages (from tensorflow) (21.3)\n",
      "Requirement already satisfied: setuptools in c:\\users\\sunil kumar\\anaconda3\\lib\\site-packages (from tensorflow) (61.2.0)\n",
      "Requirement already satisfied: wrapt>=1.11.0 in c:\\users\\sunil kumar\\anaconda3\\lib\\site-packages (from tensorflow) (1.12.1)\n",
      "Note: you may need to restart the kernel to use updated packages.\n",
      "Requirement already satisfied: tensorflow-estimator<2.10.0,>=2.9.0rc0 in c:\\users\\sunil kumar\\anaconda3\\lib\\site-packages (from tensorflow) (2.9.0)\n",
      "Requirement already satisfied: numpy>=1.20 in c:\\users\\sunil kumar\\anaconda3\\lib\\site-packages (from tensorflow) (1.21.5)\n",
      "Requirement already satisfied: termcolor>=1.1.0 in c:\\users\\sunil kumar\\anaconda3\\lib\\site-packages (from tensorflow) (1.1.0)\n",
      "Requirement already satisfied: absl-py>=1.0.0 in c:\\users\\sunil kumar\\anaconda3\\lib\\site-packages (from tensorflow) (1.1.0)\n",
      "Requirement already satisfied: typing-extensions>=3.6.6 in c:\\users\\sunil kumar\\anaconda3\\lib\\site-packages (from tensorflow) (4.1.1)\n",
      "Requirement already satisfied: opt-einsum>=2.3.2 in c:\\users\\sunil kumar\\anaconda3\\lib\\site-packages (from tensorflow) (3.3.0)\n",
      "Requirement already satisfied: keras<2.10.0,>=2.9.0rc0 in c:\\users\\sunil kumar\\anaconda3\\lib\\site-packages (from tensorflow) (2.9.0)\n",
      "Requirement already satisfied: keras-preprocessing>=1.1.1 in c:\\users\\sunil kumar\\anaconda3\\lib\\site-packages (from tensorflow) (1.1.2)\n",
      "Requirement already satisfied: protobuf<3.20,>=3.9.2 in c:\\users\\sunil kumar\\anaconda3\\lib\\site-packages (from tensorflow) (3.19.1)\n",
      "Requirement already satisfied: grpcio<2.0,>=1.24.3 in c:\\users\\sunil kumar\\anaconda3\\lib\\site-packages (from tensorflow) (1.42.0)\n",
      "Requirement already satisfied: flatbuffers<2,>=1.12 in c:\\users\\sunil kumar\\anaconda3\\lib\\site-packages (from tensorflow) (1.12)\n",
      "Requirement already satisfied: libclang>=13.0.0 in c:\\users\\sunil kumar\\anaconda3\\lib\\site-packages (from tensorflow) (14.0.1)\n",
      "Requirement already satisfied: gast<=0.4.0,>=0.2.1 in c:\\users\\sunil kumar\\anaconda3\\lib\\site-packages (from tensorflow) (0.4.0)\n",
      "Requirement already satisfied: h5py>=2.9.0 in c:\\users\\sunil kumar\\anaconda3\\lib\\site-packages (from tensorflow) (3.6.0)\n",
      "Requirement already satisfied: astunparse>=1.6.0 in c:\\users\\sunil kumar\\anaconda3\\lib\\site-packages (from tensorflow) (1.6.3)\n",
      "Requirement already satisfied: six>=1.12.0 in c:\\users\\sunil kumar\\anaconda3\\lib\\site-packages (from tensorflow) (1.16.0)\n",
      "Requirement already satisfied: tensorboard<2.10,>=2.9 in c:\\users\\sunil kumar\\anaconda3\\lib\\site-packages (from tensorflow) (2.9.1)\n",
      "Requirement already satisfied: tensorflow-io-gcs-filesystem>=0.23.1 in c:\\users\\sunil kumar\\anaconda3\\lib\\site-packages (from tensorflow) (0.26.0)\n",
      "Requirement already satisfied: wheel<1.0,>=0.23.0 in c:\\users\\sunil kumar\\anaconda3\\lib\\site-packages (from astunparse>=1.6.0->tensorflow) (0.37.1)\n",
      "Requirement already satisfied: tensorboard-plugin-wit>=1.6.0 in c:\\users\\sunil kumar\\anaconda3\\lib\\site-packages (from tensorboard<2.10,>=2.9->tensorflow) (1.8.1)\n",
      "Requirement already satisfied: requests<3,>=2.21.0 in c:\\users\\sunil kumar\\anaconda3\\lib\\site-packages (from tensorboard<2.10,>=2.9->tensorflow) (2.27.1)\n",
      "Requirement already satisfied: google-auth-oauthlib<0.5,>=0.4.1 in c:\\users\\sunil kumar\\anaconda3\\lib\\site-packages (from tensorboard<2.10,>=2.9->tensorflow) (0.4.6)\n",
      "Requirement already satisfied: tensorboard-data-server<0.7.0,>=0.6.0 in c:\\users\\sunil kumar\\anaconda3\\lib\\site-packages (from tensorboard<2.10,>=2.9->tensorflow) (0.6.1)\n",
      "Requirement already satisfied: werkzeug>=1.0.1 in c:\\users\\sunil kumar\\anaconda3\\lib\\site-packages (from tensorboard<2.10,>=2.9->tensorflow) (2.0.3)\n",
      "Requirement already satisfied: markdown>=2.6.8 in c:\\users\\sunil kumar\\anaconda3\\lib\\site-packages (from tensorboard<2.10,>=2.9->tensorflow) (3.3.4)\n",
      "Requirement already satisfied: google-auth<3,>=1.6.3 in c:\\users\\sunil kumar\\anaconda3\\lib\\site-packages (from tensorboard<2.10,>=2.9->tensorflow) (1.33.0)\n",
      "Requirement already satisfied: pyparsing!=3.0.5,>=2.0.2 in c:\\users\\sunil kumar\\anaconda3\\lib\\site-packages (from packaging->tensorflow) (3.0.4)\n",
      "Requirement already satisfied: pyasn1-modules>=0.2.1 in c:\\users\\sunil kumar\\anaconda3\\lib\\site-packages (from google-auth<3,>=1.6.3->tensorboard<2.10,>=2.9->tensorflow) (0.2.8)\n",
      "Requirement already satisfied: cachetools<5.0,>=2.0.0 in c:\\users\\sunil kumar\\anaconda3\\lib\\site-packages (from google-auth<3,>=1.6.3->tensorboard<2.10,>=2.9->tensorflow) (4.2.2)\n",
      "Requirement already satisfied: rsa<5,>=3.1.4 in c:\\users\\sunil kumar\\anaconda3\\lib\\site-packages (from google-auth<3,>=1.6.3->tensorboard<2.10,>=2.9->tensorflow) (4.7.2)\n",
      "Requirement already satisfied: requests-oauthlib>=0.7.0 in c:\\users\\sunil kumar\\anaconda3\\lib\\site-packages (from google-auth-oauthlib<0.5,>=0.4.1->tensorboard<2.10,>=2.9->tensorflow) (1.3.1)\n",
      "Requirement already satisfied: certifi>=2017.4.17 in c:\\users\\sunil kumar\\anaconda3\\lib\\site-packages (from requests<3,>=2.21.0->tensorboard<2.10,>=2.9->tensorflow) (2021.10.8)\n",
      "Requirement already satisfied: idna<4,>=2.5 in c:\\users\\sunil kumar\\anaconda3\\lib\\site-packages (from requests<3,>=2.21.0->tensorboard<2.10,>=2.9->tensorflow) (3.3)\n",
      "Requirement already satisfied: charset-normalizer~=2.0.0 in c:\\users\\sunil kumar\\anaconda3\\lib\\site-packages (from requests<3,>=2.21.0->tensorboard<2.10,>=2.9->tensorflow) (2.0.4)\n",
      "Requirement already satisfied: urllib3<1.27,>=1.21.1 in c:\\users\\sunil kumar\\anaconda3\\lib\\site-packages (from requests<3,>=2.21.0->tensorboard<2.10,>=2.9->tensorflow) (1.26.9)\n",
      "Requirement already satisfied: pyasn1<0.5.0,>=0.4.6 in c:\\users\\sunil kumar\\anaconda3\\lib\\site-packages (from pyasn1-modules>=0.2.1->google-auth<3,>=1.6.3->tensorboard<2.10,>=2.9->tensorflow) (0.4.8)\n",
      "Requirement already satisfied: oauthlib>=3.0.0 in c:\\users\\sunil kumar\\anaconda3\\lib\\site-packages (from requests-oauthlib>=0.7.0->google-auth-oauthlib<0.5,>=0.4.1->tensorboard<2.10,>=2.9->tensorflow) (3.2.0)\n"
     ]
    }
   ],
   "source": [
    "pip install tensorflow"
   ]
  },
  {
   "cell_type": "code",
   "execution_count": 5,
   "id": "0f7364b3",
   "metadata": {},
   "outputs": [
    {
     "name": "stdout",
     "output_type": "stream",
     "text": [
      "[2 5 7]\n",
      "Dimension  1\n",
      "Shape  (3,)\n",
      "[[2 5 7]\n",
      " [3 6 8]]\n",
      "Dimension  2\n",
      "Shape  (2, 3)\n",
      "[[[ 1  3  5  6]\n",
      "  [ 2  4  6  7]\n",
      "  [ 1  2  3  4]]\n",
      "\n",
      " [[ 4  3  2  1]\n",
      "  [ 7  9 11 12]\n",
      "  [ 8 10 12  9]]]\n",
      "Dimension  3\n",
      "Shape  (2, 3, 4)\n"
     ]
    }
   ],
   "source": [
    "import numpy as np\n",
    "x = np.array([2,5,7])\n",
    "print(x)\n",
    "print(\"Dimension \", x.ndim)\n",
    "print(\"Shape \", x.shape)\n",
    "\n",
    "y = np.array([[2,5,7],[3,6,8]])\n",
    "print(y)\n",
    "print(\"Dimension \", y.ndim)\n",
    "print(\"Shape \", y.shape)\n",
    "\n",
    "z = np.array([[[1,3,5,6],[2,4,6,7],[1,2,3,4]],[[4,3,2,1],[7,9,11,12],[8,10,12,9]]])\n",
    "print(z)\n",
    "print(\"Dimension \", z.ndim)\n",
    "print(\"Shape \", z.shape)"
   ]
  },
  {
   "cell_type": "code",
   "execution_count": 6,
   "id": "c35fc1a7",
   "metadata": {},
   "outputs": [
    {
     "name": "stdout",
     "output_type": "stream",
     "text": [
      "tf.Tensor(8, shape=(), dtype=int32)\n"
     ]
    }
   ],
   "source": [
    "#Simple operation to illustrate constant and variable\n",
    "\n",
    "import tensorflow as tf\n",
    "x = tf.constant(2)\n",
    "y = tf.Variable(x+4)\n",
    "total=x+y\n",
    "print(total)"
   ]
  },
  {
   "cell_type": "markdown",
   "id": "5efe5bf5",
   "metadata": {},
   "source": [
    "# ADDITION"
   ]
  },
  {
   "cell_type": "code",
   "execution_count": 14,
   "id": "19ef3fc5",
   "metadata": {},
   "outputs": [
    {
     "name": "stdout",
     "output_type": "stream",
     "text": [
      "The first matrix is \n",
      "[[1 2 3]\n",
      " [3 2 1]\n",
      " [1 1 1]]\n",
      "The second matrix is \n",
      "[[ 0  0  0]\n",
      " [-1  0  1]\n",
      " [ 3  3  4]]\n",
      "The sum is \n",
      "tf.Tensor(\n",
      "[[1 2 3]\n",
      " [2 2 2]\n",
      " [4 4 5]], shape=(3, 3), dtype=int32)\n"
     ]
    }
   ],
   "source": [
    "\n",
    "import tensorflow as tf\n",
    "import numpy as np\n",
    "\n",
    "matrix_1 = np.array([(1,2,3),(3,2,1),(1,1,1)],dtype = 'int32')\n",
    "matrix_2 = np.array([(0,0,0),(-1,0,1),(3,3,4)],dtype = 'int32')\n",
    "print(\"The first matrix is \")\n",
    "print (matrix_1)\n",
    "print(\"The second matrix is \")\n",
    "print (matrix_2)\n",
    "print(\"The sum is \")\n",
    "matrix_1 = tf.constant(matrix_1)\n",
    "matrix_2 = tf.constant(matrix_2)\n",
    "matrix_sum = tf.add(matrix_1, matrix_2)\n",
    "print((matrix_sum))"
   ]
  },
  {
   "cell_type": "markdown",
   "id": "f9a3ae8a",
   "metadata": {},
   "source": [
    "# SUBTRACTION"
   ]
  },
  {
   "cell_type": "code",
   "execution_count": 15,
   "id": "796e05e5",
   "metadata": {},
   "outputs": [
    {
     "name": "stdout",
     "output_type": "stream",
     "text": [
      "The first matrix is \n",
      "[[1 2 3]\n",
      " [3 2 1]\n",
      " [1 1 1]]\n",
      "The second matrix is \n",
      "[[ 0  0  0]\n",
      " [-1  0  1]\n",
      " [ 3  3  4]]\n",
      "The Difference is \n",
      "tf.Tensor(\n",
      "[[ 1  2  3]\n",
      " [ 4  2  0]\n",
      " [-2 -2 -3]], shape=(3, 3), dtype=int32)\n"
     ]
    }
   ],
   "source": [
    "\n",
    "import tensorflow as tf\n",
    "import numpy as np\n",
    "\n",
    "matrix_1 = np.array([(1,2,3),(3,2,1),(1,1,1)],dtype = 'int32')\n",
    "matrix_2 = np.array([(0,0,0),(-1,0,1),(3,3,4)],dtype = 'int32')\n",
    "print(\"The first matrix is \")\n",
    "print (matrix_1)\n",
    "print(\"The second matrix is \")\n",
    "print (matrix_2)\n",
    "print(\"The Difference is \")\n",
    "matrix_1 = tf.constant(matrix_1)\n",
    "matrix_2 = tf.constant(matrix_2)\n",
    "matrix_diff = tf.subtract(matrix_1, matrix_2)\n",
    "print((matrix_diff))"
   ]
  },
  {
   "cell_type": "markdown",
   "id": "70f1de49",
   "metadata": {},
   "source": [
    "# MULTIPLICATION"
   ]
  },
  {
   "cell_type": "code",
   "execution_count": 16,
   "id": "d872a34e",
   "metadata": {},
   "outputs": [
    {
     "name": "stdout",
     "output_type": "stream",
     "text": [
      "The first matrix is \n",
      "[[1 2 3]\n",
      " [3 2 1]\n",
      " [1 1 1]]\n",
      "The second matrix is \n",
      "[[ 0  0  0]\n",
      " [-1  0  1]\n",
      " [ 3  3  4]]\n",
      "The product is \n",
      "tf.Tensor(\n",
      "[[ 7  9 14]\n",
      " [ 1  3  6]\n",
      " [ 2  3  5]], shape=(3, 3), dtype=int32)\n"
     ]
    }
   ],
   "source": [
    "import tensorflow as tf\n",
    "import numpy as np\n",
    "\n",
    "matrix_1 = np.array([(1,2,3),(3,2,1),(1,1,1)],dtype = 'int32')\n",
    "matrix_2 = np.array([(0,0,0),(-1,0,1),(3,3,4)],dtype = 'int32')\n",
    "print(\"The first matrix is \")\n",
    "print (matrix_1)\n",
    "print(\"The second matrix is \")\n",
    "print (matrix_2)\n",
    "print(\"The product is \")\n",
    "matrix_1 = tf.constant(matrix_1)\n",
    "matrix_2 = tf.constant(matrix_2)\n",
    "matrix_prod = tf.matmul(matrix_1, matrix_2)\n",
    "print((matrix_prod))"
   ]
  },
  {
   "cell_type": "code",
   "execution_count": null,
   "id": "81e1bbde",
   "metadata": {},
   "outputs": [],
   "source": []
  }
 ],
 "metadata": {
  "kernelspec": {
   "display_name": "Python 3 (ipykernel)",
   "language": "python",
   "name": "python3"
  },
  "language_info": {
   "codemirror_mode": {
    "name": "ipython",
    "version": 3
   },
   "file_extension": ".py",
   "mimetype": "text/x-python",
   "name": "python",
   "nbconvert_exporter": "python",
   "pygments_lexer": "ipython3",
   "version": "3.9.12"
  }
 },
 "nbformat": 4,
 "nbformat_minor": 5
}
