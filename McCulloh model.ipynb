{
 "cells": [
  {
   "cell_type": "code",
   "execution_count": 1,
   "id": "6d56cce1",
   "metadata": {},
   "outputs": [
    {
     "name": "stdout",
     "output_type": "stream",
     "text": [
      "Requirement already satisfied: numpy in c:\\users\\sunil kumar\\anaconda3\\lib\\site-packages (1.21.5)\n",
      "Note: you may need to restart the kernel to use updated packages.\n"
     ]
    }
   ],
   "source": [
    "pip install numpy"
   ]
  },
  {
   "cell_type": "code",
   "execution_count": 2,
   "id": "3c43ddd4",
   "metadata": {},
   "outputs": [
    {
     "name": "stdout",
     "output_type": "stream",
     "text": [
      "Requirement already satisfied: pandas in c:\\users\\sunil kumar\\anaconda3\\lib\\site-packages (1.4.2)\n",
      "Requirement already satisfied: pytz>=2020.1 in c:\\users\\sunil kumar\\anaconda3\\lib\\site-packages (from pandas) (2021.3)\n",
      "Requirement already satisfied: numpy>=1.18.5 in c:\\users\\sunil kumar\\anaconda3\\lib\\site-packages (from pandas) (1.21.5)\n",
      "Requirement already satisfied: python-dateutil>=2.8.1 in c:\\users\\sunil kumar\\anaconda3\\lib\\site-packages (from pandas) (2.8.2)\n",
      "Requirement already satisfied: six>=1.5 in c:\\users\\sunil kumar\\anaconda3\\lib\\site-packages (from python-dateutil>=2.8.1->pandas) (1.16.0)\n",
      "Note: you may need to restart the kernel to use updated packages.\n"
     ]
    }
   ],
   "source": [
    "pip install pandas"
   ]
  },
  {
   "cell_type": "code",
   "execution_count": 4,
   "id": "6e587ca1",
   "metadata": {},
   "outputs": [
    {
     "name": "stdout",
     "output_type": "stream",
     "text": [
      "[0 0 1] value 0\n",
      "[0 1 1] value 0\n",
      "[1 0 1] value 0\n",
      "[1 1 1] value 1\n"
     ]
    }
   ],
   "source": [
    "#McCulloh Pitt model for AND model\n",
    "import numpy as np\n",
    "\n",
    "def McAnd(x,w,t):\n",
    "    net = np.dot(x,w)\n",
    "    if net>t:\n",
    "        output = 1\n",
    "    else:\n",
    "        output = 0\n",
    "    return output\n",
    "\n",
    "x0 = np.array([0,0,1])\n",
    "x1 = np.array([0,1,1])\n",
    "x2 = np.array([1,0,1])\n",
    "x3 = np.array([1,1,1])\n",
    "w = np.array([1,1,-1])\n",
    "\n",
    "t = 0\n",
    "ans1 = McAnd(x0,w,t)\n",
    "print (x0, \"value\", ans1)\n",
    "ans2 = McAnd(x1,w,t)\n",
    "print (x1, \"value\", ans2)\n",
    "ans3 = McAnd(x2,w,t)\n",
    "print (x2, \"value\", ans3)\n",
    "ans4 = McAnd(x3,w,t)\n",
    "print (x3, \"value\", ans4)"
   ]
  },
  {
   "cell_type": "code",
   "execution_count": 5,
   "id": "3edf2f64",
   "metadata": {},
   "outputs": [
    {
     "name": "stdout",
     "output_type": "stream",
     "text": [
      "[0 0 1] value 0\n",
      "[0 1 1] value 1\n",
      "[1 0 1] value 1\n",
      "[1 1 1] value 1\n"
     ]
    }
   ],
   "source": [
    "#McCulloh Pitt model for OR model\n",
    "import numpy as np\n",
    "\n",
    "def McOr(x,w,t):\n",
    "    net = np.dot(x,w)\n",
    "    if net>t:\n",
    "        output = 1\n",
    "    else:\n",
    "        output = 0\n",
    "    return output\n",
    "x0 = np.array([0,0,1])\n",
    "x1 = np.array([0,1,1])\n",
    "x2 = np.array([1,0,1])\n",
    "x3 = np.array([1,1,1])\n",
    "w = np.array([8,7,-3])\n",
    "t = 0\n",
    "ans1 = McOr(x0,w,t)\n",
    "print (x0, \"value\", ans1)\n",
    "ans2 = McOr(x1,w,t)\n",
    "print (x1, \"value\", ans2)\n",
    "ans3 = McOr(x2,w,t)\n",
    "print (x2, \"value\", ans3)\n",
    "ans4 = McOr(x3,w,t)\n",
    "print (x3, \"value\", ans4)"
   ]
  },
  {
   "cell_type": "code",
   "execution_count": 6,
   "id": "d2094ec3",
   "metadata": {},
   "outputs": [
    {
     "name": "stdout",
     "output_type": "stream",
     "text": [
      "[1 0] value 1\n",
      "[1 1] value 0\n"
     ]
    }
   ],
   "source": [
    "#McCulloh Pitt model for NOT model\n",
    "import numpy as np\n",
    "\n",
    "def McNOT(x,w,t):\n",
    "    net = np.dot(x,w)\n",
    "    if net>t:\n",
    "        output = 1\n",
    "    else:\n",
    "        output = 0\n",
    "    return output\n",
    "x0 = np.array([1,0])\n",
    "x1 = np.array([1,1])\n",
    "w = np.array([1,-1])\n",
    "t = 0\n",
    "ans1 = McNOT(x0,w,t)\n",
    "print (x0, \"value\", ans1)\n",
    "ans2 = McNOT(x1,w,t)\n",
    "print (x1, \"value\", ans2)"
   ]
  },
  {
   "cell_type": "code",
   "execution_count": 9,
   "id": "1a845ecb",
   "metadata": {},
   "outputs": [
    {
     "name": "stdout",
     "output_type": "stream",
     "text": [
      "[[  7   0   4]\n",
      " [ 13   5   0]\n",
      " [-16   9  17]]\n"
     ]
    }
   ],
   "source": [
    "#Matrix Addition\n",
    "\n",
    "import numpy as np\n",
    "\n",
    "A = np.array([[1,5,6],[8,-2,4],[-7,3,9]])\n",
    "B = np.array([[6,-5,-2],[5,7,-4],[-9,6,8]])\n",
    "C = A+B\n",
    "print(C)"
   ]
  },
  {
   "cell_type": "code",
   "execution_count": 10,
   "id": "27f9f8d1",
   "metadata": {},
   "outputs": [
    {
     "name": "stdout",
     "output_type": "stream",
     "text": [
      "[[-5 10  8]\n",
      " [ 3 -9  8]\n",
      " [ 2 -3  1]]\n"
     ]
    }
   ],
   "source": [
    "#Matrix Subtraction\n",
    "\n",
    "import numpy as np\n",
    "\n",
    "A = np.array([[1,5,6],[8,-2,4],[-7,3,9]])\n",
    "B = np.array([[6,-5,-2],[5,7,-4],[-9,6,8]])\n",
    "C = A-B\n",
    "print(C)"
   ]
  },
  {
   "cell_type": "code",
   "execution_count": 11,
   "id": "fdb8740c",
   "metadata": {},
   "outputs": [
    {
     "name": "stdout",
     "output_type": "stream",
     "text": [
      "[[  6 -25 -12]\n",
      " [ 40 -14 -16]\n",
      " [ 63  18  72]]\n"
     ]
    }
   ],
   "source": [
    "#Matrix Multiplication\n",
    "\n",
    "import numpy as np\n",
    "\n",
    "A = np.array([[1,5,6],[8,-2,4],[-7,3,9]])\n",
    "B = np.array([[6,-5,-2],[5,7,-4],[-9,6,8]])\n",
    "C = A*B\n",
    "print(C)"
   ]
  }
 ],
 "metadata": {
  "kernelspec": {
   "display_name": "Python 3 (ipykernel)",
   "language": "python",
   "name": "python3"
  },
  "language_info": {
   "codemirror_mode": {
    "name": "ipython",
    "version": 3
   },
   "file_extension": ".py",
   "mimetype": "text/x-python",
   "name": "python",
   "nbconvert_exporter": "python",
   "pygments_lexer": "ipython3",
   "version": "3.9.12"
  }
 },
 "nbformat": 4,
 "nbformat_minor": 5
}
