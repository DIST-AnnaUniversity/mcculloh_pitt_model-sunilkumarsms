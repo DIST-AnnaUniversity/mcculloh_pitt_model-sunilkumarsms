{
 "cells": [
  {
   "cell_type": "code",
   "execution_count": 1,
   "id": "05052584",
   "metadata": {},
   "outputs": [
    {
     "name": "stdout",
     "output_type": "stream",
     "text": [
      "Requirement already satisfied: numpy in c:\\users\\sunil kumar\\anaconda3\\lib\\site-packages (1.21.5)\n",
      "Note: you may need to restart the kernel to use updated packages.\n"
     ]
    }
   ],
   "source": [
    "pip install numpy"
   ]
  },
  {
   "cell_type": "code",
   "execution_count": 2,
   "id": "b6610f61",
   "metadata": {},
   "outputs": [
    {
     "name": "stdout",
     "output_type": "stream",
     "text": [
      "Requirement already satisfied: pandas in c:\\users\\sunil kumar\\anaconda3\\lib\\site-packages (1.4.2)\n",
      "Requirement already satisfied: numpy>=1.18.5 in c:\\users\\sunil kumar\\anaconda3\\lib\\site-packages (from pandas) (1.21.5)\n",
      "Requirement already satisfied: pytz>=2020.1 in c:\\users\\sunil kumar\\anaconda3\\lib\\site-packages (from pandas) (2021.3)\n",
      "Requirement already satisfied: python-dateutil>=2.8.1 in c:\\users\\sunil kumar\\anaconda3\\lib\\site-packages (from pandas) (2.8.2)\n",
      "Requirement already satisfied: six>=1.5 in c:\\users\\sunil kumar\\anaconda3\\lib\\site-packages (from python-dateutil>=2.8.1->pandas) (1.16.0)\n",
      "Note: you may need to restart the kernel to use updated packages.\n"
     ]
    }
   ],
   "source": [
    "pip install pandas"
   ]
  },
  {
   "cell_type": "code",
   "execution_count": 3,
   "id": "94957851",
   "metadata": {},
   "outputs": [
    {
     "name": "stdout",
     "output_type": "stream",
     "text": [
      "Requirement already satisfied: tensorflow in c:\\users\\sunil kumar\\anaconda3\\lib\\site-packages (2.9.1)\n",
      "Requirement already satisfied: absl-py>=1.0.0 in c:\\users\\sunil kumar\\anaconda3\\lib\\site-packages (from tensorflow) (1.1.0)\n",
      "Requirement already satisfied: h5py>=2.9.0 in c:\\users\\sunil kumar\\anaconda3\\lib\\site-packages (from tensorflow) (3.6.0)\n",
      "Requirement already satisfied: six>=1.12.0 in c:\\users\\sunil kumar\\anaconda3\\lib\\site-packages (from tensorflow) (1.16.0)\n",
      "Requirement already satisfied: termcolor>=1.1.0 in c:\\users\\sunil kumar\\anaconda3\\lib\\site-packages (from tensorflow) (1.1.0)\n",
      "Requirement already satisfied: setuptools in c:\\users\\sunil kumar\\anaconda3\\lib\\site-packages (from tensorflow) (61.2.0)\n",
      "Requirement already satisfied: astunparse>=1.6.0 in c:\\users\\sunil kumar\\anaconda3\\lib\\site-packages (from tensorflow) (1.6.3)\n",
      "Requirement already satisfied: protobuf<3.20,>=3.9.2 in c:\\users\\sunil kumar\\anaconda3\\lib\\site-packages (from tensorflow) (3.19.1)\n",
      "Requirement already satisfied: tensorflow-io-gcs-filesystem>=0.23.1 in c:\\users\\sunil kumar\\anaconda3\\lib\\site-packages (from tensorflow) (0.26.0)\n",
      "Requirement already satisfied: keras<2.10.0,>=2.9.0rc0 in c:\\users\\sunil kumar\\anaconda3\\lib\\site-packages (from tensorflow) (2.9.0)\n",
      "Requirement already satisfied: packaging in c:\\users\\sunil kumar\\anaconda3\\lib\\site-packages (from tensorflow) (21.3)\n",
      "Requirement already satisfied: opt-einsum>=2.3.2 in c:\\users\\sunil kumar\\anaconda3\\lib\\site-packages (from tensorflow) (3.3.0)\n",
      "Requirement already satisfied: google-pasta>=0.1.1 in c:\\users\\sunil kumar\\anaconda3\\lib\\site-packages (from tensorflow) (0.2.0)\n",
      "Requirement already satisfied: grpcio<2.0,>=1.24.3 in c:\\users\\sunil kumar\\anaconda3\\lib\\site-packages (from tensorflow) (1.42.0)\n",
      "Requirement already satisfied: tensorboard<2.10,>=2.9 in c:\\users\\sunil kumar\\anaconda3\\lib\\site-packages (from tensorflow) (2.9.1)\n",
      "Requirement already satisfied: libclang>=13.0.0 in c:\\users\\sunil kumar\\anaconda3\\lib\\site-packages (from tensorflow) (14.0.1)\n",
      "Requirement already satisfied: keras-preprocessing>=1.1.1 in c:\\users\\sunil kumar\\anaconda3\\lib\\site-packages (from tensorflow) (1.1.2)\n",
      "Requirement already satisfied: wrapt>=1.11.0 in c:\\users\\sunil kumar\\anaconda3\\lib\\site-packages (from tensorflow) (1.12.1)\n",
      "Requirement already satisfied: numpy>=1.20 in c:\\users\\sunil kumar\\anaconda3\\lib\\site-packages (from tensorflow) (1.21.5)\n",
      "Requirement already satisfied: tensorflow-estimator<2.10.0,>=2.9.0rc0 in c:\\users\\sunil kumar\\anaconda3\\lib\\site-packages (from tensorflow) (2.9.0)\n",
      "Requirement already satisfied: gast<=0.4.0,>=0.2.1 in c:\\users\\sunil kumar\\anaconda3\\lib\\site-packages (from tensorflow) (0.4.0)\n",
      "Requirement already satisfied: flatbuffers<2,>=1.12 in c:\\users\\sunil kumar\\anaconda3\\lib\\site-packages (from tensorflow) (1.12)\n",
      "Requirement already satisfied: typing-extensions>=3.6.6 in c:\\users\\sunil kumar\\anaconda3\\lib\\site-packages (from tensorflow) (4.1.1)\n",
      "Requirement already satisfied: wheel<1.0,>=0.23.0 in c:\\users\\sunil kumar\\anaconda3\\lib\\site-packages (from astunparse>=1.6.0->tensorflow) (0.37.1)\n",
      "Requirement already satisfied: markdown>=2.6.8 in c:\\users\\sunil kumar\\anaconda3\\lib\\site-packages (from tensorboard<2.10,>=2.9->tensorflow) (3.3.4)\n",
      "Requirement already satisfied: werkzeug>=1.0.1 in c:\\users\\sunil kumar\\anaconda3\\lib\\site-packages (from tensorboard<2.10,>=2.9->tensorflow) (2.0.3)\n",
      "Requirement already satisfied: tensorboard-plugin-wit>=1.6.0 in c:\\users\\sunil kumar\\anaconda3\\lib\\site-packages (from tensorboard<2.10,>=2.9->tensorflow) (1.8.1)\n",
      "Requirement already satisfied: google-auth-oauthlib<0.5,>=0.4.1 in c:\\users\\sunil kumar\\anaconda3\\lib\\site-packages (from tensorboard<2.10,>=2.9->tensorflow) (0.4.6)\n",
      "Requirement already satisfied: google-auth<3,>=1.6.3 in c:\\users\\sunil kumar\\anaconda3\\lib\\site-packages (from tensorboard<2.10,>=2.9->tensorflow) (1.33.0)\n",
      "Requirement already satisfied: requests<3,>=2.21.0 in c:\\users\\sunil kumar\\anaconda3\\lib\\site-packages (from tensorboard<2.10,>=2.9->tensorflow) (2.27.1)\n",
      "Requirement already satisfied: tensorboard-data-server<0.7.0,>=0.6.0 in c:\\users\\sunil kumar\\anaconda3\\lib\\site-packages (from tensorboard<2.10,>=2.9->tensorflow) (0.6.1)\n",
      "Requirement already satisfied: pyparsing!=3.0.5,>=2.0.2 in c:\\users\\sunil kumar\\anaconda3\\lib\\site-packages (from packaging->tensorflow) (3.0.4)\n",
      "Requirement already satisfied: pyasn1-modules>=0.2.1 in c:\\users\\sunil kumar\\anaconda3\\lib\\site-packages (from google-auth<3,>=1.6.3->tensorboard<2.10,>=2.9->tensorflow) (0.2.8)\n",
      "Requirement already satisfied: rsa<5,>=3.1.4 in c:\\users\\sunil kumar\\anaconda3\\lib\\site-packages (from google-auth<3,>=1.6.3->tensorboard<2.10,>=2.9->tensorflow) (4.7.2)\n",
      "Requirement already satisfied: cachetools<5.0,>=2.0.0 in c:\\users\\sunil kumar\\anaconda3\\lib\\site-packages (from google-auth<3,>=1.6.3->tensorboard<2.10,>=2.9->tensorflow) (4.2.2)\n",
      "Requirement already satisfied: requests-oauthlib>=0.7.0 in c:\\users\\sunil kumar\\anaconda3\\lib\\site-packages (from google-auth-oauthlib<0.5,>=0.4.1->tensorboard<2.10,>=2.9->tensorflow) (1.3.1)\n",
      "Requirement already satisfied: urllib3<1.27,>=1.21.1 in c:\\users\\sunil kumar\\anaconda3\\lib\\site-packages (from requests<3,>=2.21.0->tensorboard<2.10,>=2.9->tensorflow) (1.26.9)\n",
      "Requirement already satisfied: idna<4,>=2.5 in c:\\users\\sunil kumar\\anaconda3\\lib\\site-packages (from requests<3,>=2.21.0->tensorboard<2.10,>=2.9->tensorflow) (3.3)\n",
      "Requirement already satisfied: certifi>=2017.4.17 in c:\\users\\sunil kumar\\anaconda3\\lib\\site-packages (from requests<3,>=2.21.0->tensorboard<2.10,>=2.9->tensorflow) (2021.10.8)\n",
      "Requirement already satisfied: charset-normalizer~=2.0.0 in c:\\users\\sunil kumar\\anaconda3\\lib\\site-packages (from requests<3,>=2.21.0->tensorboard<2.10,>=2.9->tensorflow) (2.0.4)\n",
      "Requirement already satisfied: pyasn1<0.5.0,>=0.4.6 in c:\\users\\sunil kumar\\anaconda3\\lib\\site-packages (from pyasn1-modules>=0.2.1->google-auth<3,>=1.6.3->tensorboard<2.10,>=2.9->tensorflow) (0.4.8)\n",
      "Requirement already satisfied: oauthlib>=3.0.0 in c:\\users\\sunil kumar\\anaconda3\\lib\\site-packages (from requests-oauthlib>=0.7.0->google-auth-oauthlib<0.5,>=0.4.1->tensorboard<2.10,>=2.9->tensorflow) (3.2.0)\n",
      "Note: you may need to restart the kernel to use updated packages.\n"
     ]
    }
   ],
   "source": [
    "pip install tensorflow"
   ]
  },
  {
   "cell_type": "markdown",
   "id": "d9b091f6",
   "metadata": {},
   "source": [
    "# MATRIX"
   ]
  },
  {
   "cell_type": "code",
   "execution_count": 9,
   "id": "0ea80115",
   "metadata": {},
   "outputs": [
    {
     "name": "stdout",
     "output_type": "stream",
     "text": [
      "[[ 1.  -3.   0.  -4. ]\n",
      " [ 0.   2.5 -0.6 -2. ]]\n",
      "[-1  1 -1]\n",
      "\n"
     ]
    }
   ],
   "source": [
    "import numpy as np\n",
    "X = np.array([[1,-3,0,-4],[0,2.5,-0.6,-2]])\n",
    "print (X)\n",
    "d = np.array([-1,1,-1])\n",
    "w = np.array([1,-1,0.5,0.5])\n",
    "print (d)\n",
    "net = np.dot(X[0],w)\n",
    "if net>0:\n",
    "    o=1\n",
    "else:\n",
    "    o=-1\n",
    "print() "
   ]
  },
  {
   "cell_type": "markdown",
   "id": "0fb36b5c",
   "metadata": {},
   "source": [
    "# Zurada's Introduction to Artificial Neural networks\n"
   ]
  },
  {
   "cell_type": "code",
   "execution_count": 6,
   "id": "4634143e",
   "metadata": {},
   "outputs": [
    {
     "name": "stdout",
     "output_type": "stream",
     "text": [
      "Inputs [[ 1.  -2.   0.  -1. ]\n",
      " [ 0.   1.5 -0.5 -1. ]\n",
      " [-1.   1.   0.5 -1. ]]\n",
      "Teacher values [-1 -1  1]\n",
      "initial values of weights [1, -1, 0, 0.5]\n",
      "1 0 [ 0.8 -0.6  0.   0.7]\n",
      "1 1 [ 0.8 -0.6  0.   0.7]\n",
      "1 2 [ 0.6 -0.4  0.1  0.5]\n",
      "2 0 [4.00000000e-01 5.55111512e-17 1.00000000e-01 7.00000000e-01]\n",
      "2 1 [4.00000000e-01 5.55111512e-17 1.00000000e-01 7.00000000e-01]\n",
      "2 2 [0.2 0.2 0.2 0.5]\n",
      "3 0 [0.2 0.2 0.2 0.5]\n",
      "3 1 [0.2 0.2 0.2 0.5]\n",
      "3 2 [5.55111512e-17 4.00000000e-01 3.00000000e-01 3.00000000e-01]\n",
      "4 0 [5.55111512e-17 4.00000000e-01 3.00000000e-01 3.00000000e-01]\n",
      "4 1 [5.55111512e-17 1.00000000e-01 4.00000000e-01 5.00000000e-01]\n",
      "4 2 [-0.2  0.3  0.5  0.3]\n",
      "5 0 [-0.2  0.3  0.5  0.3]\n",
      "5 1 [-0.2  0.3  0.5  0.3]\n",
      "5 2 [-0.2  0.3  0.5  0.3]\n",
      "6 0 [-0.2  0.3  0.5  0.3]\n",
      "6 1 [-0.2  0.3  0.5  0.3]\n",
      "6 2 [-0.2  0.3  0.5  0.3]\n",
      "Final sets of weights [-0.2  0.3  0.5  0.3]\n",
      "Testing\n",
      "final output [-1, -1, 1]\n",
      "d [-1 -1  1]\n"
     ]
    }
   ],
   "source": [
    "#This program is the implementation of example program of perceptron algorithm from Zurada's Introduction to Artificial Neural networks\n",
    "\n",
    "import numpy as np\n",
    "X = np.array([[1,-2,0,-1],[0,1.5,-0.5,-1],[-1,1,0.5,-1],])\n",
    "print (\"Inputs\", X)\n",
    "d = np.array([-1,-1,1])\n",
    "print (\"Teacher values\", d)\n",
    "w= ([1,-1,0,0.5])\n",
    "print (\"initial values of weights\", w)\n",
    "c = 0.1\n",
    "for n in range(1,7):# Number of iterations  = 7\n",
    "    for i, x in enumerate(X):\n",
    "        net = np.dot(X[i],w)\n",
    "        if net > 0:\n",
    "            out = 1\n",
    "        else:\n",
    "            out = -1\n",
    "        r = c*(d[i] - out)\n",
    "        delta_w = r*x\n",
    "        w = delta_w+w\n",
    "        print (n, i, w)\n",
    "print (\"Final sets of weights\",w)\n",
    "final_out = []\n",
    "print (\"Testing\")\n",
    "for i,x in enumerate(X):\n",
    "    net = np.dot(X[i],w)\n",
    "    if net>0:\n",
    "        out = 1\n",
    "    else:\n",
    "        out = -1\n",
    "    final_out = final_out+[out]\n",
    "print (\"final output\", final_out)\n",
    "print (\"d\", d)\n"
   ]
  },
  {
   "cell_type": "markdown",
   "id": "4ef2744f",
   "metadata": {},
   "source": [
    "# Continuous activation function"
   ]
  },
  {
   "cell_type": "code",
   "execution_count": 8,
   "id": "e4d2a712",
   "metadata": {},
   "outputs": [
    {
     "name": "stdout",
     "output_type": "stream",
     "text": [
      "Inputs [[ 1.   5. ]\n",
      " [-0.6  1. ]\n",
      " [ 4.   1. ]\n",
      " [-2.   3. ]]\n",
      "Teacher values [ 1 -1  1 -1]\n",
      "initial values of weights [0, 0]\n",
      "Training\n",
      "----------\n",
      "Iteration  1\n",
      "--------------\n",
      "Step  0 : [1. 5.]\n",
      "Step  1 : [1.00000888 4.9999852 ]\n",
      "Step  2 : [1.00000888 4.9999852 ]\n",
      "Step  3 : [1.00000888 4.9999852 ]\n",
      "Iteration  2\n",
      "--------------\n",
      "Step  0 : [1.00000888 4.9999852 ]\n",
      "Step  1 : [1.00001777 4.99997039]\n",
      "Step  2 : [1.00001777 4.99997039]\n",
      "Step  3 : [1.00001777 4.99997039]\n",
      "Iteration  3\n",
      "--------------\n",
      "Step  0 : [1.00001777 4.99997039]\n",
      "Step  1 : [1.00002665 4.99995558]\n",
      "Step  2 : [1.00002665 4.99995558]\n",
      "Step  3 : [1.00002665 4.99995558]\n",
      "Iteration  4\n",
      "--------------\n",
      "Step  0 : [1.00002665 4.99995558]\n",
      "Step  1 : [1.00003553 4.99994078]\n",
      "Step  2 : [1.00003553 4.99994078]\n",
      "Step  3 : [1.00003553 4.99994078]\n",
      "Iteration  5\n",
      "--------------\n",
      "Step  0 : [1.00003553 4.99994078]\n",
      "Step  1 : [1.00004442 4.99992597]\n",
      "Step  2 : [1.00004442 4.99992597]\n",
      "Step  3 : [1.00004442 4.99992597]\n",
      "Iteration  6\n",
      "--------------\n",
      "Step  0 : [1.00004442 4.99992597]\n",
      "Step  1 : [1.00005331 4.99991116]\n",
      "Step  2 : [1.00005331 4.99991116]\n",
      "Step  3 : [1.00005331 4.99991116]\n",
      "Iteration  7\n",
      "--------------\n",
      "Step  0 : [1.00005331 4.99991116]\n",
      "Step  1 : [1.00006219 4.99989635]\n",
      "Step  2 : [1.00006219 4.99989635]\n",
      "Step  3 : [1.00006219 4.99989635]\n",
      "Final sets of weights:  [1.00006219 4.99989635]\n",
      "Testing\n",
      "--------\n",
      "Final output:  [1.0, -1.0]\n"
     ]
    }
   ],
   "source": [
    "#This program is the implementation of example program of perceptron algorithm from Zurada's Introduction to Artificial Neural networks\n",
    "#This uses continuous activation function\n",
    "import math\n",
    "import numpy as np\n",
    "#/*----------------Function for perceptron algorithm --------------*/\n",
    "def perceptron(c,X,d,w,iter,lam):\n",
    "    for n in range(1,iter):# Number of iterations  = 7\n",
    "        print (\"Iteration \", n)\n",
    "        print (\"--------------\")\n",
    "        for i, x in enumerate(X):\n",
    "            net = np.dot(X[i],w)\n",
    "            out = (2/(1+math.exp(-lam*net)))-1\n",
    "            r = c*(d[i] - out)*(1-(out*out))\n",
    "            delta_w = 1/2*(r*x)\n",
    "            w = delta_w+w\n",
    "            print (\"Step \", i, \":\", w)\n",
    "    return w\n",
    "#/*---------------------Function for testing the perceptron-----------*/\n",
    "\n",
    "def test_perceptron(final_out,X,w,lam):\n",
    "    for i,x in enumerate(X):\n",
    "        net = np.dot(X[i],w)\n",
    "        out = (2/(1+math.exp(-lam*net)))-1\n",
    "        final_out = final_out+[out]\n",
    "    return final_out\n",
    "\n",
    "#*---------------Training---------------------------------*/\n",
    "X = np.array([[1,5],[-0.6,1],[4,1],[-2,3],])\n",
    "new_input = np.array([[5,2],[-76,1],])#feed new inputs and see\n",
    "print (\"Inputs\", X)\n",
    "d = np.array([1,-1,1,-1])\n",
    "print (\"Teacher values\", d)\n",
    "w= ([0,0])\n",
    "print (\"initial values of weights\", w)\n",
    "c = 2\n",
    "iterations = 8\n",
    "lam=3\n",
    "print (\"Training\")\n",
    "print (\"----------\")\n",
    "final_weight = perceptron(c,X,d,w,iterations,lam)\n",
    "print (\"Final sets of weights: \", final_weight)\n",
    "#*-----------------Testing-------------------------------*/\n",
    "final_out = []\n",
    "print (\"Testing\")\n",
    "print (\"--------\")\n",
    "final_output = test_perceptron(final_out,new_input,final_weight,lam)\n",
    "print (\"Final output: \", final_output)\n",
    "#print (\"Original Teacher values\", d)"
   ]
  },
  {
   "cell_type": "markdown",
   "id": "27b2e534",
   "metadata": {},
   "source": [
    "# DISCRETE"
   ]
  },
  {
   "cell_type": "code",
   "execution_count": 10,
   "id": "23aecc98",
   "metadata": {},
   "outputs": [
    {
     "name": "stdout",
     "output_type": "stream",
     "text": [
      "Inputs [[ 1.   2. ]\n",
      " [-0.5  1.5]\n",
      " [ 5.   2. ]\n",
      " [-1.   2. ]]\n",
      "Teacher values [-1  1 -1  1]\n",
      "initial values of weights [0, 0]\n",
      "Training\n",
      "----------\n",
      "1 0 [0. 0.]\n",
      "1 1 [-1.  3.]\n",
      "1 2 [-11.  -1.]\n",
      "1 3 [-11.  -1.]\n",
      "2 0 [-11.  -1.]\n",
      "2 1 [-11.  -1.]\n",
      "2 2 [-11.  -1.]\n",
      "2 3 [-11.  -1.]\n",
      "Final sets of weights:  [-11.  -1.]\n",
      "Testing\n",
      "--------\n",
      "Final output:  [-1, 1]\n"
     ]
    }
   ],
   "source": [
    "#This program is the implementation of example program of perceptron algorithm from Zurada's Introduction to Artificial Neural networks\n",
    "\n",
    "import numpy as np\n",
    "#/*----------------Function for perceptron algorithm --------------*/\n",
    "def perceptron(c,X,d,w,iter):\n",
    "    for n in range(1,iter):# Number of iterations  = 7\n",
    "        for i, x in enumerate(X):\n",
    "            net = np.dot(X[i],w)\n",
    "            if net > 0:\n",
    "                out = 1\n",
    "            else:\n",
    "                out = -1\n",
    "            r = c*(d[i] - out)\n",
    "            delta_w = r*x\n",
    "            w = delta_w+w\n",
    "            print (n, i, w)\n",
    "    return w\n",
    "#/*---------------------Function for testing the perceptron-----------*/\n",
    "\n",
    "def test_perceptron(final_out,X,w):\n",
    "    for i,x in enumerate(X):\n",
    "        net = np.dot(X[i],w)\n",
    "        if net>0:\n",
    "            out = 1\n",
    "        else:\n",
    "            out = -1\n",
    "        final_out = final_out+[out]\n",
    "    return final_out\n",
    "\n",
    "#*---------------Training---------------------------------*/\n",
    "X = np.array([[1,2],[-0.5,1.5],[5,2],[-1,2],])\n",
    "new_input = np.array([[7,1],[-7,1],])#feed new inputs and see\n",
    "print (\"Inputs\", X)\n",
    "d = np.array([-1,1,-1,1])\n",
    "print (\"Teacher values\", d)\n",
    "w= ([0,0])\n",
    "print (\"initial values of weights\", w)\n",
    "c = 1\n",
    "iterations = 3\n",
    "print (\"Training\")\n",
    "print (\"----------\")\n",
    "final_weight = perceptron(c,X,d,w,iterations)\n",
    "print (\"Final sets of weights: \", final_weight)\n",
    "#*-----------------Testing-------------------------------*/\n",
    "final_out = []\n",
    "print (\"Testing\")\n",
    "print (\"--------\")\n",
    "final_output = test_perceptron(final_out,new_input,final_weight)\n",
    "print (\"Final output: \", final_output)\n",
    "#print (\"Original Teacher values\", d)"
   ]
  },
  {
   "cell_type": "code",
   "execution_count": null,
   "id": "eeb258c2",
   "metadata": {},
   "outputs": [],
   "source": []
  }
 ],
 "metadata": {
  "kernelspec": {
   "display_name": "Python 3 (ipykernel)",
   "language": "python",
   "name": "python3"
  },
  "language_info": {
   "codemirror_mode": {
    "name": "ipython",
    "version": 3
   },
   "file_extension": ".py",
   "mimetype": "text/x-python",
   "name": "python",
   "nbconvert_exporter": "python",
   "pygments_lexer": "ipython3",
   "version": "3.9.12"
  }
 },
 "nbformat": 4,
 "nbformat_minor": 5
}
